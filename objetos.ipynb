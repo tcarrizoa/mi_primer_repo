{
 "cells": [
  {
   "cell_type": "markdown",
   "metadata": {},
   "source": [
    "# Elementos y caracteristicas de la programación orientada a objetos\n",
    "\n",
    "### Los elementos de la POO, pueden entenderse como los “materiales” que necesitamos para diseñar y programar un sistema, mientras que las características, podrían asumirse como las “herramientas” de las cuáles disponemos para construir el sistema con esos materiales.\n",
    "\n",
    "## Clases\n",
    "\n",
    "### Las clases son los modelos sobre los cuáles se construirán nuestros objetos. En Python, una clase se define con la instrucción class seguida de un nombre genérico para el objeto."
   ]
  },
  {
   "cell_type": "code",
   "execution_count": null,
   "metadata": {},
   "outputs": [],
   "source": [
    "class Objeto:\n",
    "pass\n",
    "\n",
    "class Antena:\n",
    "pass\n",
    "\n",
    "class Pelo:\n",
    "pass\n",
    "\n",
    "class Ojo:\n",
    "pass"
   ]
  },
  {
   "cell_type": "markdown",
   "metadata": {},
   "source": [
    "### PEP 8: El nombre de las clases se define en singular, utilizando CamelCase.\n",
    "\n",
    "## Propiedades : Son las características intrínsecas del objeto. Éstas, se representan a modo de variables, solo que técnicamente, pasan a denominarse “propiedades”:"
   ]
  },
  {
   "cell_type": "code",
   "execution_count": null,
   "metadata": {},
   "outputs": [],
   "source": [
    "class Antena():\n",
    "color = \"\"\n",
    "longitud = \"\"\n",
    "\n",
    "class Pelo():\n",
    "color = \"\"\n",
    "textura = \"\"\n",
    "\n",
    "class Ojo():\n",
    "forma = \"\"\n",
    "color = \"\"\n",
    "tamanio = \"\"\n",
    "\n",
    "class Objeto():\n",
    "color = \"\"\n",
    "tamanio = \"\"\n",
    "aspecto = \"\"\n",
    "\n",
    "antenas = Antena() # propiedad compuesta por el objeto objeto Antena\n",
    "\n",
    "ojos = Ojo() # propiedad compuesta por el objeto objeto Ojo\n",
    "\n",
    "pelos = Pelo() # propiedad compuesta por el objeto objeto Pelo"
   ]
  },
  {
   "cell_type": "markdown",
   "metadata": {},
   "source": [
    "### PEP 8: Las propiedades se definen de la misma forma que las variables (aplican las mismas reglas de estilo).\n",
    "\n",
    "## Métodos: son “funciones”, solo que técnicamente se denominan métodos, y representan acciones propias que puede realizar el objeto (y no otro):"
   ]
  },
  {
   "cell_type": "code",
   "execution_count": null,
   "metadata": {},
   "outputs": [],
   "source": [
    "class Objeto():\n",
    "color = \"verde\"\n",
    "tamanio = \"grande\"\n",
    "aspecto = \"feo\"\n",
    "antenas = Antena()\n",
    "ojos = Ojo()\n",
    "pelos = Pelo()\n",
    "\n",
    "def flotar(self):\n",
    "pass"
   ]
  },
  {
   "cell_type": "markdown",
   "metadata": {},
   "source": [
    "### Notar que el primer parámetro de un método, siempre debe ser self. why???\n",
    "\n",
    "## Objeto: Las clases por sí mismas, no son más que modelos que nos servirán para crear objetos en concreto. Podemos decir que una clase, es el razonamiento abstracto de un objeto, mientras que el objeto, es su materialización. A la acción de crear objetos, se la denomina “instanciar una clase” y dicha instancia, consiste en asignar la clase, como valor a una variable:"
   ]
  },
  {
   "cell_type": "code",
   "execution_count": null,
   "metadata": {},
   "outputs": [],
   "source": [
    "class Objeto():\n",
    "color = \"verde\"\n",
    "tamanio = \"grande\"\n",
    "aspecto = \"feo\"\n",
    "antenas = Antena()\n",
    "ojos = Ojo()\n",
    "pelos = Pelo()\n",
    "\n",
    "def flotar(self):\n",
    "print(12)\n",
    "\n",
    "et = Objeto()\n",
    "print(et.color)\n",
    "print(et.tamanio)\n",
    "print(et.aspecto)\n",
    "et.color = \"rosa\"\n",
    "print(et.color)"
   ]
  },
  {
   "cell_type": "markdown",
   "metadata": {},
   "source": [
    "## Herencia: característica principal de la POO \n",
    "### propiedades y métodos que otro objeto, y además agregan nuevas propiedades y métodos. \n",
    "### A esto se lo denomina herencia: una clase que hereda de otra. Vale aclarar, que en Python, cuando una clase no hereda de ninguna otra, debe hacerse heredar de object, que es la clase principal de Python, que define un objeto."
   ]
  },
  {
   "cell_type": "code",
   "execution_count": null,
   "metadata": {},
   "outputs": [],
   "source": [
    "class Antena(object):\n",
    "color = \"\"\n",
    "longitud = \"\"\n",
    "\n",
    "class Pelo(object):\n",
    "color = \"\"\n",
    "textura = \"\"\n",
    "\n",
    "class Ojo(object):\n",
    "forma = \"\"\n",
    "color = \"\"\n",
    "tamanio = \"\"\n",
    "\n",
    "class Objeto(object):\n",
    "color = \"\"\n",
    "tamanio = \"\"\n",
    "aspecto = \"\"\n",
    "\n",
    "antenas = Antena()\n",
    "\n",
    "ojos = Ojo()\n",
    "\n",
    "pelos = Pelo()\n",
    "\n",
    "def flotar(self):\n",
    "pass\n",
    "\n",
    "class Dedo(object):\n",
    "longitud = \"\"\n",
    "forma = \"\"\n",
    "color = \"\"\n",
    "\n",
    "class Pie(object):\n",
    "forma = \"\"\n",
    "color = \"\"\n",
    "dedos = Dedo()\n",
    "\n",
    "# NuevoObjeto sí hereda de otra clase: Objeto\n",
    "class NuevoObjeto(Objeto):\n",
    "pie = Pie()\n",
    "\n",
    "def saltar(self):\n",
    "pass"
   ]
  },
  {
   "cell_type": "markdown",
   "metadata": {},
   "source": [
    "# Accediendo a los métodos y propiedades de un objeto\n",
    "\n",
    "### Una vez creado un objeto, es decir, una vez hecha la instancia de clase, es posible acceder a su métodos y propiedades. Para ello, Python utiliza una sintaxis muy simple: el nombre del objeto, seguido de punto y la propiedad o método al cuál se desea acceder:"
   ]
  },
  {
   "cell_type": "code",
   "execution_count": null,
   "metadata": {},
   "outputs": [],
   "source": [
    "objeto = MiClase()\n",
    "    print(objeto.propiedad)\n",
    "objeto.otra_propiedad = \"Nuevo valor\"\n",
    "variable = objeto.metodo()\n",
    "    print(variable)\n",
    "    print(objeto.otro_metodo()) #Estaban los print sin identar, está bien eso?"
   ]
  },
  {
   "cell_type": "markdown",
   "metadata": {},
   "source": [
    "# Métodos principales del objeto string\n",
    "\n",
    "## Métodos de formato\n",
    "\n",
    "### Convertir a mayúscula la primera letra"
   ]
  },
  {
   "cell_type": "code",
   "execution_count": 2,
   "metadata": {},
   "outputs": [
    {
     "name": "stdout",
     "output_type": "stream",
     "text": [
      "Bienvenido a mi aplicación\n"
     ]
    }
   ],
   "source": [
    "cadena = \"bienvenido a mi aplicación\"\n",
    "print(cadena.capitalize()) # va sin identar\n"
   ]
  },
  {
   "cell_type": "markdown",
   "metadata": {},
   "source": [
    "## Convertir una cadena a minúsculas"
   ]
  },
  {
   "cell_type": "code",
   "execution_count": 3,
   "metadata": {},
   "outputs": [
    {
     "name": "stdout",
     "output_type": "stream",
     "text": [
      "hola mundo\n"
     ]
    }
   ],
   "source": [
    "cadena = \"Hola Mundo\"\n",
    "print(cadena.lower())"
   ]
  },
  {
   "cell_type": "markdown",
   "metadata": {},
   "source": [
    "## Convertir una cadena todo a mayúscula"
   ]
  },
  {
   "cell_type": "code",
   "execution_count": 4,
   "metadata": {},
   "outputs": [
    {
     "name": "stdout",
     "output_type": "stream",
     "text": [
      "HOLA MUNDO\n"
     ]
    }
   ],
   "source": [
    "cadena = \"Hola Mundo\"\n",
    "print(cadena.upper())"
   ]
  },
  {
   "cell_type": "markdown",
   "metadata": {},
   "source": [
    "## Convertir mayúsculas a minúsculas y viceversa"
   ]
  },
  {
   "cell_type": "code",
   "execution_count": 7,
   "metadata": {},
   "outputs": [
    {
     "name": "stdout",
     "output_type": "stream",
     "text": [
      "hOLA mUNDO\n",
      "HOLA MUNDO\n"
     ]
    }
   ],
   "source": [
    "cadena = \"Hola Mundo\"\n",
    "print(cadena.swapcase()) #Las mayusculas las pasa a minúsculas\n",
    "\n",
    "cadena_1 = \"hola mundo\"\n",
    "print(cadena_1.swapcase()) #las minusculas las pasa a mayúsculas\n",
    "\n"
   ]
  },
  {
   "cell_type": "markdown",
   "metadata": {},
   "source": [
    "## Convertir una cadena en formato Título\n"
   ]
  },
  {
   "cell_type": "code",
   "execution_count": 9,
   "metadata": {},
   "outputs": [
    {
     "name": "stdout",
     "output_type": "stream",
     "text": [
      "Hola Mundo\n",
      "Hola Mundo\n"
     ]
    }
   ],
   "source": [
    "cadena = \"hola mundo\"\n",
    "print(cadena.title()) #lo que hace es poner la primera letra con mayúscula???\n",
    "\n",
    "cadena_pr = \"Hola Mundo\"\n",
    "print(cadena_pr.title())\n"
   ]
  },
  {
   "cell_type": "markdown",
   "metadata": {},
   "source": [
    "## Centrar un texto\n",
    "\n",
    "### Método: center(longitud[, \"caracter de relleno\"])\n",
    "\n",
    "### Retorna: Una copua de la cadena centradad"
   ]
  },
  {
   "cell_type": "code",
   "execution_count": 11,
   "metadata": {},
   "outputs": [
    {
     "name": "stdout",
     "output_type": "stream",
     "text": [
      "============Bienvenido a mi aplicación============\n",
      "            Bienvenido a mi aplicación            \n"
     ]
    }
   ],
   "source": [
    "cadena = \"bienvenido a mi aplicación\".capitalize()\n",
    "print(cadena.center(50, \"=\"))\n",
    "print(cadena.center(50, \" \")) #Yo coloco la longitud que pienso conveniente???"
   ]
  },
  {
   "cell_type": "markdown",
   "metadata": {},
   "source": [
    "## Alinear texto a la izquierda\n",
    "\n",
    "### Método: ljust(longitud[, \"caracter de relleno\"])\n",
    "### Retorna: Una copua de la cadena alineada a la izquierda."
   ]
  },
  {
   "cell_type": "code",
   "execution_count": 12,
   "metadata": {},
   "outputs": [
    {
     "name": "stdout",
     "output_type": "stream",
     "text": [
      "Bienvenido a mi aplicación========================\n"
     ]
    }
   ],
   "source": [
    "cadena = \"bienvenido a mi aplicación\".capitalize()\n",
    "print(cadena.ljust(50,\"=\"))\n"
   ]
  },
  {
   "cell_type": "markdown",
   "metadata": {},
   "source": [
    "## Alinear texto a la derecha\n",
    "\n",
    "### Método: rjust(longitud[, \"caracter de relleno\"])\n",
    "### Retorna: Una copia de la cadena alineada a la derecha."
   ]
  },
  {
   "cell_type": "code",
   "execution_count": 13,
   "metadata": {},
   "outputs": [
    {
     "name": "stdout",
     "output_type": "stream",
     "text": [
      "========================Bienvenido a mi aplicación\n",
      "                        Bienvenido a mi aplicación\n"
     ]
    }
   ],
   "source": [
    "cadena = \"bienvenido a mi aplicación\".capitalize()\n",
    "print(cadena.rjust(50, \"=\"))\n",
    "print(cadena.rjust(50, \" \"))"
   ]
  },
  {
   "cell_type": "markdown",
   "metadata": {},
   "source": [
    "## Rellenar un texto anteponiendo ceros\n",
    "\n",
    "### Método: zfill(longitud)\n",
    "### Retorna: Una copia de la cadena rellena con ceros a la izquierda hasta alcanzar la longitud final indicada"
   ]
  },
  {
   "cell_type": "code",
   "execution_count": 15,
   "metadata": {},
   "outputs": [
    {
     "name": "stdout",
     "output_type": "stream",
     "text": [
      "000000001575\n"
     ]
    }
   ],
   "source": [
    "numero_factura = 1575\n",
    "print(str(numero_factura).zfill(12)) \n",
    "# si le pongo 12 y la variable tiene 4 números, se rellenan los ceros hasta completar la longitud dada"
   ]
  },
  {
   "cell_type": "markdown",
   "metadata": {},
   "source": [
    "# Métodos de búsqueda\n",
    "## Contar cantidad de apariciones de una subcadena\n",
    "\n",
    "## Método: Count(\"subcadena\"[,posicion_inicio, posicion_fin])\n",
    "\n",
    "## Retorna: Un entero representando la cantudad de apariciones de subcadena dentro de cadena"
   ]
  },
  {
   "cell_type": "code",
   "execution_count": 16,
   "metadata": {},
   "outputs": [
    {
     "name": "stdout",
     "output_type": "stream",
     "text": [
      "3\n"
     ]
    }
   ],
   "source": [
    "cadena = \"bienvenido a mi aplicación\".capitalize()\n",
    "print(cadena.count(\"a\"))"
   ]
  },
  {
   "cell_type": "markdown",
   "metadata": {},
   "source": [
    "## Buscar una subcadena dentro de una cadena\n",
    "\n",
    "### Método:find(\"subcadena[,posicion_incicio, posicion_fin])\n",
    "\n",
    "### Retorna: Un entero representando la posición deonde inicia la subcadena dentro de cadena. Si no lo encuentra, retorna -1"
   ]
  },
  {
   "cell_type": "code",
   "execution_count": 18,
   "metadata": {},
   "outputs": [
    {
     "name": "stdout",
     "output_type": "stream",
     "text": [
      "13\n",
      "-1\n"
     ]
    }
   ],
   "source": [
    "cadena = \"bienvenido a mi aplicación\".capitalize()\n",
    "print(cadena.find(\"mi\"))\n",
    "print(cadena.find(\"mi\", 0, 10))"
   ]
  },
  {
   "cell_type": "markdown",
   "metadata": {},
   "source": [
    "# Métodos de validación\n",
    "\n",
    "## Saber si una cadena comienza con una subcadena determinada\n",
    "\n",
    "## Método: startwith(\"subcadena\"[, posicion_inicio, posicion_fin])\n",
    "\n",
    "## Retorna: True o False\n"
   ]
  },
  {
   "cell_type": "code",
   "execution_count": 22,
   "metadata": {},
   "outputs": [
    {
     "name": "stdout",
     "output_type": "stream",
     "text": [
      "True\n",
      "False\n",
      "True\n"
     ]
    }
   ],
   "source": [
    "cadena = \"bienvenido a mi aplicación\".capitalize()\n",
    "print(cadena.startswith(\"Bienvenido\"))\n",
    "print(cadena.startswith(\"aplicación\"))\n",
    "print(cadena.startswith(\"aplicación\", 16))\n"
   ]
  },
  {
   "cell_type": "markdown",
   "metadata": {},
   "source": [
    "## saber si una cadena finaliza con una subcadena determinada\n",
    "\n",
    "### Método: endswith(subcadena[,posicion_inicio, posicion_fin])\n",
    "### Retorna: True o False"
   ]
  },
  {
   "cell_type": "code",
   "execution_count": 23,
   "metadata": {},
   "outputs": [
    {
     "name": "stdout",
     "output_type": "stream",
     "text": [
      "True\n",
      "False\n",
      "True\n"
     ]
    }
   ],
   "source": [
    "cadena = \"bienvenido a mi aplicación\".capitalize()\n",
    "print(cadena.endswith(\"aplicación\"))\n",
    "print(cadena.endswith(\"Bienvenido\"))\n",
    "print(cadena.endswith(\"Bienvenido\", 0, 10))"
   ]
  },
  {
   "cell_type": "markdown",
   "metadata": {},
   "source": [
    "## Saber si una cadena es alfanumérica\n",
    "\n",
    "### Método: isalnum()\n",
    "### Retorna: True o False"
   ]
  },
  {
   "cell_type": "code",
   "execution_count": 25,
   "metadata": {},
   "outputs": [
    {
     "name": "stdout",
     "output_type": "stream",
     "text": [
      "False\n",
      "True\n",
      "True\n"
     ]
    }
   ],
   "source": [
    "cadena = \"pepegrillo 75\"\n",
    "print(cadena.isalnum())\n",
    "cadena = \"pepegrillo\" # porque es true si no es alfanumerico?\n",
    "print(cadena.isalnum())\n",
    "cadena = \"pepegrillo75\"\n",
    "print(cadena.isalnum())\n"
   ]
  },
  {
   "cell_type": "markdown",
   "metadata": {},
   "source": [
    "## Saber si una cadena es alfabética\n",
    "\n",
    "### Método: isalpha()\n",
    "### Retorna: True o False"
   ]
  },
  {
   "cell_type": "code",
   "execution_count": 26,
   "metadata": {},
   "outputs": [
    {
     "name": "stdout",
     "output_type": "stream",
     "text": [
      "False\n",
      "True\n",
      "False\n"
     ]
    }
   ],
   "source": [
    "cadena = \"pepegrillo 75\"\n",
    "print(cadena.isalpha())\n",
    "\n",
    "cadena = \"pepegrillo\"\n",
    "print(cadena.isalpha())\n",
    "\n",
    "cadena = \"pepegrillo75\"\n",
    "print(cadena.isalpha())"
   ]
  },
  {
   "cell_type": "markdown",
   "metadata": {},
   "source": [
    "## Saber si una cadena es numérica\n",
    "\n",
    "### Método: isdigit()\n",
    "### Retorna: True o False"
   ]
  },
  {
   "cell_type": "code",
   "execution_count": 27,
   "metadata": {},
   "outputs": [
    {
     "name": "stdout",
     "output_type": "stream",
     "text": [
      "False\n",
      "True\n",
      "False\n",
      "False\n"
     ]
    }
   ],
   "source": [
    "cadena = \"pepegrillo 75\"\n",
    "print(cadena.isdigit())\n",
    "\n",
    "\n",
    "cadena = \"7584\"\n",
    "print(cadena.isdigit())\n",
    "\n",
    "cadena = \"75 84\" # porqué es false?\n",
    "print(cadena.isdigit())\n",
    "\n",
    "cadena = \"75.84\"\n",
    "print(cadena.isdigit())\n",
    "\n",
    "\n"
   ]
  },
  {
   "cell_type": "markdown",
   "metadata": {},
   "source": [
    "## Saber si una cadena contiene solo minúsculas\n",
    "\n",
    "### Método: islower()\n",
    "### Retorna: True o False"
   ]
  },
  {
   "cell_type": "code",
   "execution_count": 28,
   "metadata": {},
   "outputs": [
    {
     "name": "stdout",
     "output_type": "stream",
     "text": [
      "True\n",
      "False\n",
      "False\n",
      "True\n"
     ]
    }
   ],
   "source": [
    "cadena = \"pepe grillo\"\n",
    "print(cadena.islower())\n",
    "\n",
    "cadena = \"Pepe Grillo\"\n",
    "print(cadena.islower())\n",
    "\n",
    "cadena = \"Pepegrillo\"\n",
    "print(cadena.islower())\n",
    "\n",
    "cadena = \"pepegrillo75\"\n",
    "print(cadena.islower())"
   ]
  },
  {
   "cell_type": "markdown",
   "metadata": {},
   "source": [
    "## Saber si una cadena contiene solo mayúsculas\n",
    "\n",
    "### Método: isupper()\n",
    "### Retorna: True o False"
   ]
  },
  {
   "cell_type": "code",
   "execution_count": 29,
   "metadata": {},
   "outputs": [
    {
     "name": "stdout",
     "output_type": "stream",
     "text": [
      "True\n",
      "False\n",
      "False\n",
      "True\n"
     ]
    }
   ],
   "source": [
    "cadena = \"PEPE GRILLO\"\n",
    "print(cadena.isupper())\n",
    "\n",
    "cadena = \"Pepe Grillo\"\n",
    "print(cadena.isupper())\n",
    "\n",
    "cadena = \"Pepegrillo\"\n",
    "print(cadena.isupper())\n",
    "\n",
    "cadena = \"PEPEGRILLO\"\n",
    "print(cadena.isupper())"
   ]
  },
  {
   "cell_type": "markdown",
   "metadata": {},
   "source": [
    "## Saber si una cadena contiene solo espacios en blanco\n",
    "\n",
    "### Método: isspace()\n",
    "### Retorna: True o False"
   ]
  },
  {
   "cell_type": "code",
   "execution_count": 30,
   "metadata": {},
   "outputs": [
    {
     "name": "stdout",
     "output_type": "stream",
     "text": [
      "False\n",
      "True\n"
     ]
    }
   ],
   "source": [
    "cadena = \"pepe grillo\"\n",
    "print(cadena.isspace())\n",
    "\n",
    "cadena = \" \"\n",
    "print(cadena.isspace())\n"
   ]
  }
 ],
 "metadata": {
  "interpreter": {
   "hash": "fe44fef87f92f48a3a32707d0df204585f471652bc0ce87358a3ce712bc24db0"
  },
  "kernelspec": {
   "display_name": "Python 3.9.7 64-bit",
   "name": "python3"
  },
  "language_info": {
   "codemirror_mode": {
    "name": "ipython",
    "version": 3
   },
   "file_extension": ".py",
   "mimetype": "text/x-python",
   "name": "python",
   "nbconvert_exporter": "python",
   "pygments_lexer": "ipython3",
   "version": "3.9.7"
  },
  "orig_nbformat": 4
 },
 "nbformat": 4,
 "nbformat_minor": 2
}
